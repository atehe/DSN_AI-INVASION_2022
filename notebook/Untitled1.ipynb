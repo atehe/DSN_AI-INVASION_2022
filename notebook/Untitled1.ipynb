{
 "cells": [
  {
   "cell_type": "code",
   "execution_count": 13,
   "id": "3ba06aa6",
   "metadata": {},
   "outputs": [],
   "source": [
    "\n",
    "import pandas as pd"
   ]
  },
  {
   "cell_type": "code",
   "execution_count": 14,
   "id": "f4c59079",
   "metadata": {},
   "outputs": [],
   "source": [
    "df = pd.read_excel('./Book1.xlsx')"
   ]
  },
  {
   "cell_type": "code",
   "execution_count": 15,
   "id": "bf5e083f",
   "metadata": {},
   "outputs": [],
   "source": [
    "df_g = df.groupby(['CONDITION','CONDITION GROUPS', 'CONDITION SUBGROUPS']).count()"
   ]
  },
  {
   "cell_type": "code",
   "execution_count": 16,
   "id": "94edd8fa",
   "metadata": {},
   "outputs": [],
   "source": [
    "new_ex = df_g.T"
   ]
  },
  {
   "cell_type": "code",
   "execution_count": 17,
   "id": "4147387b",
   "metadata": {},
   "outputs": [],
   "source": [
    "new_ex.to_excel(excel_writer='file2.xlsx',index=True)"
   ]
  }
 ],
 "metadata": {
  "kernelspec": {
   "display_name": "Python 3 (ipykernel)",
   "language": "python",
   "name": "python3"
  },
  "language_info": {
   "codemirror_mode": {
    "name": "ipython",
    "version": 3
   },
   "file_extension": ".py",
   "mimetype": "text/x-python",
   "name": "python",
   "nbconvert_exporter": "python",
   "pygments_lexer": "ipython3",
   "version": "3.10.0"
  }
 },
 "nbformat": 4,
 "nbformat_minor": 5
}
